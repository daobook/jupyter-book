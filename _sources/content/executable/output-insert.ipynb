{
 "cells": [
  {
   "cell_type": "markdown",
   "id": "efac1de5",
   "metadata": {},
   "source": [
    "(content:code-outputs:glue)=\n",
    "# Store code outputs and insert into content\n",
    "\n",
    "You often wish to run analyses in one notebook and insert them in your\n",
    "documents elsewhere. For example, if you'd like to include a figure,\n",
    "or if you want to cite an analysis that you have run.\n",
    "\n",
    "```{margin}\n",
    "Currently, `glue` only works with Python.\n",
    "```\n",
    "\n",
    "The `glue` tool from [MyST-NB](https://myst-nb.readthedocs.io/)\n",
    "allows you to add a key to variables in a notebook,\n",
    "then display those variables in your book by referencing the key. It\n",
    "follows a two-step process:\n",
    "\n",
    "* **Glue a variable to a name**. Do this by using\n",
    "  the `myst_nb.glue` function on a variable\n",
    "  that you'd like to re-use elsewhere in the book. You'll give the variable\n",
    "  a name that can be referenced later.\n",
    "* **Reference that variable from your page's content**. Then, when you are\n",
    "  writing your content, insert the variable into your text by using a\n",
    "  `{glue:}` role.\n",
    "\n",
    "We'll cover each step in more detail below.\n",
    "\n",
    ":::{margin}\n",
    "For more information about roles, see [](../myst.md).\n",
    ":::"
   ]
  },
  {
   "cell_type": "markdown",
   "id": "0e59d5dd",
   "metadata": {},
   "source": [
    "(glue/gluing)=\n",
    "## Gluing variables in your notebook\n",
    "\n",
    "You can use `myst_nb.glue()` to assign the value of a variable to\n",
    "a key of your choice. `glue` will store all of the information that is normally used to **display**\n",
    "that variable (i.e., whatever happens when you display the variable by putting it at the end of a\n",
    "code cell). Choose a key that you will remember, as you will use it later.\n",
    "\n",
    "The following code glues a variable inside the notebook to the key `\"cool_text\"`:"
   ]
  },
  {
   "cell_type": "code",
   "execution_count": 1,
   "id": "51abb51b",
   "metadata": {},
   "outputs": [
    {
     "data": {
      "text/plain": [
       "'here is some text!'"
      ]
     },
     "metadata": {
      "scrapbook": {
       "mime_prefix": "",
       "name": "cool_text"
      }
     },
     "output_type": "display_data"
    }
   ],
   "source": [
    "from myst_nb import glue\n",
    "my_variable = \"here is some text!\"\n",
    "glue(\"cool_text\", my_variable)"
   ]
  },
  {
   "cell_type": "markdown",
   "id": "9ac7598f",
   "metadata": {},
   "source": [
    "You can then insert it into your text. Adding\n",
    "`` {glue:}`cool_text` `` to your content results in the\n",
    "following: {glue:}`cool_text`.\n",
    "\n",
    "### Gluing numbers, plots, and tables\n",
    "\n",
    "You can glue anything in your notebook and display it later with `{glue:}`. Here\n",
    "we'll show how to glue and paste **numbers and images**. We'll simulate some\n",
    "data and run a simple bootstrap on it. We'll hide most of this process below,\n",
    "to focus on the glueing part."
   ]
  },
  {
   "cell_type": "code",
   "execution_count": 2,
   "id": "05f8b5aa",
   "metadata": {
    "tags": [
     "hide-cell"
    ]
   },
   "outputs": [],
   "source": [
    "# Simulate some data and bootstrap the mean of the data\n",
    "import numpy as np\n",
    "import pandas as pd\n",
    "import matplotlib.pyplot as plt\n",
    "\n",
    "n_points = 10000\n",
    "n_boots = 1000\n",
    "mean, sd = (3, .2)\n",
    "data = sd*np.random.randn(n_points) + mean\n",
    "bootstrap_indices = np.random.randint(0, n_points, n_points*n_boots).reshape((n_boots, n_points))"
   ]
  },
  {
   "cell_type": "markdown",
   "id": "052a7d43",
   "metadata": {},
   "source": [
    "In the cell below, `data` contains our data, and `bootstrap_indices` is a collection of sample indices in each bootstrap. Below we'll calculate a few statistics of interest, and\n",
    "**`glue()`** them into the notebook."
   ]
  },
  {
   "cell_type": "code",
   "execution_count": 3,
   "id": "0150c0a2",
   "metadata": {},
   "outputs": [
    {
     "data": {
      "text/plain": [
       "3.003189232559927"
      ]
     },
     "metadata": {
      "scrapbook": {
       "mime_prefix": "",
       "name": "boot_mean"
      }
     },
     "output_type": "display_data"
    },
    {
     "data": {
      "text/plain": [
       "2.9905834469475963"
      ]
     },
     "metadata": {
      "scrapbook": {
       "mime_prefix": "",
       "name": "boot_clo"
      }
     },
     "output_type": "display_data"
    },
    {
     "data": {
      "text/plain": [
       "3.015400103499179"
      ]
     },
     "metadata": {
      "scrapbook": {
       "mime_prefix": "",
       "name": "boot_chi"
      }
     },
     "output_type": "display_data"
    }
   ],
   "source": [
    "# Calculate the mean of a bunch of random samples\n",
    "means = data[bootstrap_indices].mean(0)\n",
    "# Calculate the 95% confidence interval for the mean\n",
    "clo, chi = np.percentile(means, [2.5, 97.5])\n",
    "\n",
    "# Store the values in our notebook\n",
    "glue(\"boot_mean\", means.mean())\n",
    "glue(\"boot_clo\", clo)\n",
    "glue(\"boot_chi\", chi)"
   ]
  },
  {
   "cell_type": "markdown",
   "id": "4a0c2f3b",
   "metadata": {},
   "source": [
    "By default, `glue` will display the value of the variable you are gluing. This\n",
    "is useful for sanity-checking its value at glue-time. If you'd like to **prevent display**,\n",
    "use the `display=False` option. Note that below, we also *overwrite* the value of\n",
    "`boot_chi` (but using the same value):"
   ]
  },
  {
   "cell_type": "code",
   "execution_count": 4,
   "id": "006cf900",
   "metadata": {},
   "outputs": [
    {
     "data": {
      "text/plain": [
       "3.015400103499179"
      ]
     },
     "metadata": {
      "scrapbook": {
       "mime_prefix": "application/papermill.record/",
       "name": "boot_chi_notdisplayed"
      }
     },
     "output_type": "display_data"
    }
   ],
   "source": [
    "glue(\"boot_chi_notdisplayed\", chi, display=False)"
   ]
  },
  {
   "cell_type": "markdown",
   "id": "8281e236",
   "metadata": {},
   "source": [
    "You can also glue visualizations, such as Matplotlib figures (here we use `display=False` to ensure that the figure isn't plotted twice):"
   ]
  },
  {
   "cell_type": "code",
   "execution_count": 5,
   "id": "b6a0d3ca",
   "metadata": {},
   "outputs": [
    {
     "data": {
      "image/png": "[encoded data removed]",
      "text/plain": [
       "<Figure size 432x288 with 1 Axes>"
      ]
     },
     "metadata": {
      "filenames": {
       "image/png": "/home/runner/work/jupyter-book/jupyter-book/docs/_build/jupyter_execute/content/executable/output-insert_10_0.png"
      },
      "scrapbook": {
       "mime_prefix": "application/papermill.record/",
       "name": "boot_fig"
      }
     },
     "output_type": "display_data"
    },
    {
     "data": {
      "image/png": "[encoded data removed]",
      "text/plain": [
       "<Figure size 432x144 with 1 Axes>"
      ]
     },
     "metadata": {
      "filenames": {
       "image/png": "/home/runner/work/jupyter-book/jupyter-book/docs/_build/jupyter_execute/content/executable/output-insert_10_1.png"
      },
      "scrapbook": {
       "mime_prefix": "application/papermill.record/",
       "name": "sorted_means_fig"
      }
     },
     "output_type": "display_data"
    },
    {
     "data": {
      "image/png": "[encoded data removed]",
      "text/plain": [
       "<Figure size 432x288 with 1 Axes>"
      ]
     },
     "metadata": {
      "filenames": {
       "image/png": "/home/runner/work/jupyter-book/jupyter-book/docs/_build/jupyter_execute/content/executable/output-insert_10_2.png"
      },
      "needs_background": "light"
     },
     "output_type": "display_data"
    },
    {
     "data": {
      "image/png": "[encoded data removed]",
      "text/plain": [
       "<Figure size 432x144 with 1 Axes>"
      ]
     },
     "metadata": {
      "filenames": {
       "image/png": "/home/runner/work/jupyter-book/jupyter-book/docs/_build/jupyter_execute/content/executable/output-insert_10_3.png"
      },
      "needs_background": "light"
     },
     "output_type": "display_data"
    }
   ],
   "source": [
    "# Visualize the historgram with the intervals\n",
    "fig, ax = plt.subplots()\n",
    "ax.hist(means)\n",
    "for ln in [clo, chi]:\n",
    "    ax.axvline(ln, ls='--', c='r')\n",
    "ax.set_title(\"Bootstrap distribution and 95% CI\")\n",
    "\n",
    "# And a wider figure to show a timeseries\n",
    "fig2, ax = plt.subplots(figsize=(6, 2))\n",
    "ax.plot(np.sort(means), lw=3, c='r')\n",
    "ax.set_axis_off()\n",
    "\n",
    "glue(\"boot_fig\", fig, display=False)\n",
    "glue(\"sorted_means_fig\", fig2, display=False)"
   ]
  },
  {
   "cell_type": "markdown",
   "id": "a7420dac",
   "metadata": {},
   "source": [
    "The same can be done for `DataFrame`s (or other table-like objects) as well."
   ]
  },
  {
   "cell_type": "code",
   "execution_count": 6,
   "id": "2eaa59f4",
   "metadata": {},
   "outputs": [
    {
     "data": {
      "text/html": [
       "<div>\n",
       "<style scoped>\n",
       "    .dataframe tbody tr th:only-of-type {\n",
       "        vertical-align: middle;\n",
       "    }\n",
       "\n",
       "    .dataframe tbody tr th {\n",
       "        vertical-align: top;\n",
       "    }\n",
       "\n",
       "    .dataframe thead th {\n",
       "        text-align: right;\n",
       "    }\n",
       "</style>\n",
       "<table border=\"1\" class=\"dataframe\">\n",
       "  <thead>\n",
       "    <tr style=\"text-align: right;\">\n",
       "      <th></th>\n",
       "      <th>first</th>\n",
       "      <th>second</th>\n",
       "      <th>third</th>\n",
       "    </tr>\n",
       "  </thead>\n",
       "  <tbody>\n",
       "    <tr>\n",
       "      <th>0</th>\n",
       "      <td>2.919498</td>\n",
       "      <td>2.884211</td>\n",
       "      <td>2.542970</td>\n",
       "    </tr>\n",
       "    <tr>\n",
       "      <th>1</th>\n",
       "      <td>2.698673</td>\n",
       "      <td>3.257676</td>\n",
       "      <td>2.686916</td>\n",
       "    </tr>\n",
       "    <tr>\n",
       "      <th>2</th>\n",
       "      <td>3.060479</td>\n",
       "      <td>3.269723</td>\n",
       "      <td>2.857485</td>\n",
       "    </tr>\n",
       "    <tr>\n",
       "      <th>3</th>\n",
       "      <td>2.876021</td>\n",
       "      <td>2.770880</td>\n",
       "      <td>3.269300</td>\n",
       "    </tr>\n",
       "    <tr>\n",
       "      <th>4</th>\n",
       "      <td>2.999150</td>\n",
       "      <td>2.801242</td>\n",
       "      <td>2.861891</td>\n",
       "    </tr>\n",
       "  </tbody>\n",
       "</table>\n",
       "</div>"
      ],
      "text/plain": [
       "      first    second     third\n",
       "0  2.919498  2.884211  2.542970\n",
       "1  2.698673  3.257676  2.686916\n",
       "2  3.060479  3.269723  2.857485\n",
       "3  2.876021  2.770880  3.269300\n",
       "4  2.999150  2.801242  2.861891"
      ]
     },
     "metadata": {
      "scrapbook": {
       "mime_prefix": "",
       "name": "df_tbl"
      }
     },
     "output_type": "display_data"
    }
   ],
   "source": [
    "bootstrap_subsets = data[bootstrap_indices][:3, :5].T\n",
    "df = pd.DataFrame(bootstrap_subsets, columns=[\"first\", \"second\", \"third\"])\n",
    "glue(\"df_tbl\", df)"
   ]
  },
  {
   "cell_type": "markdown",
   "id": "500e9bf9",
   "metadata": {},
   "source": [
    "```{tip}\n",
    "Since we are going to paste this figure into our document at a later point,\n",
    "you may wish to remove the output here, using the `remove-output` tag\n",
    "(see {ref}`hiding/remove-content`).\n",
    "```"
   ]
  },
  {
   "cell_type": "markdown",
   "id": "a492765f",
   "metadata": {},
   "source": [
    "(glue/pasting)=\n",
    "\n",
    "## Pasting glued variables into your page\n",
    "\n",
    "Once you have glued variables to their names, you can then **paste**\n",
    "those variables into your text in your book anywhere you like (even on other pages).\n",
    "These variables can be pasted using one of the roles or directives in the `glue` *family*."
   ]
  },
  {
   "cell_type": "markdown",
   "id": "5ba9f804",
   "metadata": {},
   "source": [
    "### The `glue` role/directive\n",
    "\n",
    "The simplest role and directive is `glue:any`,\n",
    "which pastes the glued output in-line or as a block respectively,\n",
    "with no additional formatting.\n",
    "Simply add this:\n",
    "\n",
    "````\n",
    "```{glue:} your-key\n",
    "```\n",
    "````\n",
    "\n",
    "For example, we'll paste the plot we generated above with the following text:\n",
    "\n",
    "````md\n",
    "```{glue:} boot_fig\n",
    "```\n",
    "````\n",
    "\n",
    "Here's how it looks:\n",
    "\n",
    "```{glue:} boot_fig\n",
    "```\n",
    "\n",
    "Or we can paste in-line objects like so:\n",
    "\n",
    "```md\n",
    "In-line text; {glue:}`boot_mean`, and a figure: {glue:}`boot_fig`.\n",
    "```\n",
    "\n",
    "In-line text; {glue:}`boot_mean`, and a figure: {glue:}`boot_fig`.\n",
    "\n",
    "```{tip}\n",
    "We recommend using wider, shorter figures when plotting in-line, with a ratio\n",
    "around 6x2. For example, here's an in-line figure of sorted means\n",
    "from our bootstrap: {glue:}`sorted_means_fig`.\n",
    "It can be used to make a visual point that isn't too complex! For more\n",
    "ideas, check out [how sparklines are used](https://en.wikipedia.org/wiki/Sparkline).\n",
    "```\n",
    "\n",
    "Next we'll cover some more specific pasting functionality, which gives you more\n",
    "control over how the pasted outputs look in your pages."
   ]
  },
  {
   "cell_type": "markdown",
   "id": "bcfd98d8",
   "metadata": {},
   "source": [
    "## Controlling the pasted outputs\n",
    "\n",
    "You can control the pasted outputs by using a sub-command of `{glue:}`. These are used like so:\n",
    "`` {glue:subcommand}`key` ``. These subcommands allow you to control more of the look, feel, and\n",
    "content of the pasted output.\n",
    "\n",
    "```{tip}\n",
    "When you use `{glue:}` you are actually using shorthand for `{glue:any}`. This is a\n",
    "generic command that doesn't make many assumptions about what you are gluing.\n",
    "```"
   ]
  },
  {
   "cell_type": "markdown",
   "id": "2101c156",
   "metadata": {},
   "source": [
    "### The `glue:text` role\n",
    "\n",
    "The `glue:text` role is specific to text outputs.\n",
    "For example, the following text:\n",
    "\n",
    "```md\n",
    "The mean of the bootstrapped distribution was {glue:text}`boot_mean` (95% confidence interval {glue:text}`boot_clo`/{glue:text}`boot_chi`).\n",
    "```\n",
    "\n",
    "Is rendered as:\n",
    "The mean of the bootstrapped distribution was {glue:text}`boot_mean` (95% confidence interval {glue:text}`boot_clo`/{glue:text}`boot_chi`)\n",
    "\n",
    "```{note}\n",
    "`glue:text` only works with glued variables that contain a `text/plain` output.\n",
    "```\n",
    "\n",
    "With `glue:text` we can **add formatting to the output**.\n",
    "This is particularly useful if you are displaying numbers and\n",
    "want to round the results. To add formatting, use this syntax:\n",
    "\n",
    "* `` {glue:text}`mykey:formatstring` ``\n",
    "\n",
    "For example, ``My rounded mean: {glue:text}`boot_mean:.2f` `` will be rendered like this: My rounded mean: {glue:text}`boot_mean:.2f` (95% CI: {glue:text}`boot_clo:.2f`/{glue:text}`boot_chi:.2f`)."
   ]
  },
  {
   "cell_type": "markdown",
   "id": "99b59b81",
   "metadata": {},
   "source": [
    "### The `glue:figure` directive\n",
    "\n",
    "With `glue:figure` you can apply more formatting to figure-like objects,\n",
    "such as giving them a caption and referenceable label. For example,\n",
    "\n",
    "````md\n",
    "```{glue:figure} boot_fig\n",
    ":figwidth: 300px\n",
    ":name: \"fig-boot\"\n",
    "\n",
    "This is a **caption**, with an embedded `{glue:text}` element: {glue:text}`boot_mean:.2f`!\n",
    "```\n",
    "````\n",
    "\n",
    "produces the following figure:\n",
    "\n",
    "```{glue:figure} boot_fig\n",
    ":figwidth: 300px\n",
    ":name: \"fig-boot\"\n",
    "\n",
    "This is a **caption**, with an embedded `{glue:text}` element: {glue:text}`boot_mean:.2f`!\n",
    "```\n",
    "\n",
    "Later, the code\n",
    "\n",
    "```md\n",
    "Here is a {ref}`reference to the figure <fig-boot>`\n",
    "```\n",
    "\n",
    "can be used to reference the figure.\n",
    "\n",
    "Here is a {ref}`reference to the figure <fig-boot>`"
   ]
  },
  {
   "cell_type": "markdown",
   "id": "f7061348",
   "metadata": {},
   "source": [
    "Here's a table:\n",
    "\n",
    "````md\n",
    "```{glue:figure} df_tbl\n",
    ":figwidth: 300px\n",
    ":name: \"tbl:df\"\n",
    "\n",
    "A caption for a pandas table.\n",
    "```\n",
    "\n",
    "````\n",
    "\n",
    "which gets rendered as\n",
    "\n",
    "```{glue:figure} df_tbl\n",
    ":figwidth: 300px\n",
    ":name: \"tbl:df\"\n",
    "\n",
    "A caption for a pandas table.\n",
    "```"
   ]
  },
  {
   "cell_type": "markdown",
   "id": "a23d87e9",
   "metadata": {},
   "source": [
    "### The `glue:math` directive\n",
    "\n",
    "The `glue:math` directive is specific to LaTeX math outputs\n",
    "(glued variables that contain a `text/latex` MIME type),\n",
    "and works similarly to the [Sphinx math directive](https://www.sphinx-doc.org/en/1.8/usage/restructuredtext/directives.html#math).\n",
    "For example, with this code we glue an equation:"
   ]
  },
  {
   "cell_type": "code",
   "execution_count": 7,
   "id": "c9005656",
   "metadata": {},
   "outputs": [
    {
     "data": {
      "text/latex": [
       "$\\displaystyle \\left(\\sqrt{5} i\\right)^{\\alpha} \\left(\\frac{1}{2} - \\frac{2 \\sqrt{5} i}{5}\\right) + \\left(- \\sqrt{5} i\\right)^{\\alpha} \\left(\\frac{1}{2} + \\frac{2 \\sqrt{5} i}{5}\\right)$"
      ],
      "text/plain": [
       "(sqrt(5)*I)**\\alpha*(1/2 - 2*sqrt(5)*I/5) + (-sqrt(5)*I)**\\alpha*(1/2 + 2*sqrt(5)*I/5)"
      ]
     },
     "metadata": {
      "scrapbook": {
       "mime_prefix": "",
       "name": "sym_eq"
      }
     },
     "output_type": "display_data"
    }
   ],
   "source": [
    "import sympy as sym\n",
    "f = sym.Function('f')\n",
    "y = sym.Function('y')\n",
    "n = sym.symbols(r'\\alpha')\n",
    "f = y(n)-2*y(n-1/sym.pi)-5*y(n-2)\n",
    "glue(\"sym_eq\", sym.rsolve(f,y(n),[1,4]))"
   ]
  },
  {
   "cell_type": "markdown",
   "id": "090a33a7",
   "metadata": {},
   "source": [
    "and now we can use the following code:\n",
    "\n",
    "````md\n",
    "```{glue:math} sym_eq\n",
    ":label: eq-sym\n",
    "```\n",
    "````\n",
    "\n",
    "to insert the equation here:\n",
    "\n",
    "```{glue:math} sym_eq\n",
    ":label: eq-sym\n",
    "```\n",
    "\n",
    "% TODO: figure out why this isn't working\n",
    "% Which we then reference as Equation {eq}`eq-sym`.\n",
    "\n",
    "```{note}\n",
    "`glue:math` only works with glued variables that contain a `text/latex` output.\n",
    "```"
   ]
  },
  {
   "cell_type": "markdown",
   "id": "7ed8ebfc",
   "metadata": {},
   "source": [
    "## Advanced `glue` use-cases\n",
    "\n",
    "Here are a few more specific and advanced uses of the `glue` submodule.\n",
    "\n",
    "### Pasting into tables\n",
    "\n",
    "In addition to pasting blocks of outputs, or in-line with text, you can also paste directly\n",
    "into tables. This allows you to compose complex collections of structured data using outputs\n",
    "that were generated in other cells or other notebooks. For example, the following Markdown table:\n",
    "\n",
    "````md\n",
    "| name                            |       plot                    | mean                      | ci                                                |\n",
    "|:-------------------------------:|:-----------------------------:|---------------------------|---------------------------------------------------|\n",
    "| histogram and raw text          | {glue:}`boot_fig`             | {glue:}`boot_mean`          | {glue:}`boot_clo`-{glue:}`boot_chi`                   |\n",
    "| sorted means and formatted text | {glue:}`sorted_means_fig`     | {glue:text}`boot_mean:.3f` | {glue:text}`boot_clo:.3f`-{glue:text}`boot_chi:.3f` |\n",
    "````\n",
    "\n",
    "Results in:\n",
    "\n",
    "| name                            |       plot                  | mean                      | ci                                                |\n",
    "|:-------------------------------:|:---------------------------:|---------------------------|---------------------------------------------------|\n",
    "| histogram and raw text          | {glue:}`boot_fig`             | {glue:}`boot_mean`          | {glue:}`boot_clo`-{glue:}`boot_chi`                   |\n",
    "| sorted means and formatted text | {glue:}`sorted_means_fig`     | {glue:text}`boot_mean:.3f` | {glue:text}`boot_clo:.3f`-{glue:text}`boot_chi:.3f` |"
   ]
  }
 ],
 "metadata": {
  "jupytext": {
   "text_representation": {
    "extension": ".md",
    "format_name": "myst"
   }
  },
  "kernelspec": {
   "display_name": "Python 3",
   "language": "python",
   "name": "python3"
  },
  "language_info": {
   "codemirror_mode": {
    "name": "ipython",
    "version": 3
   },
   "file_extension": ".py",
   "mimetype": "text/x-python",
   "name": "python",
   "nbconvert_exporter": "python",
   "pygments_lexer": "ipython3",
   "version": "3.9.5"
  },
  "source_map": [
   10,
   42,
   54,
   58,
   73,
   86,
   91,
   101,
   108,
   110,
   114,
   129,
   133,
   137,
   145,
   155,
   200,
   213,
   239,
   274,
   297,
   306,
   313,
   336
  ]
 },
 "nbformat": 4,
 "nbformat_minor": 5
}